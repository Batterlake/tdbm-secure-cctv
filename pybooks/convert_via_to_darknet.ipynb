{
 "cells": [
  {
   "cell_type": "code",
   "execution_count": 2,
   "metadata": {},
   "outputs": [],
   "source": [
    "import json\n",
    "\n",
    "def load_json(filename: str):\n",
    "    with open(filename, 'r', encoding='utf-8') as file:\n",
    "        return json.load(file)"
   ]
  },
  {
   "cell_type": "code",
   "execution_count": 3,
   "metadata": {},
   "outputs": [],
   "source": [
    "vgg_annot = load_json('../via_region_data.json')"
   ]
  },
  {
   "cell_type": "code",
   "execution_count": 8,
   "metadata": {},
   "outputs": [
    {
     "name": "stdout",
     "output_type": "stream",
     "text": [
      "{'file_attributes': {}, 'filename': '250040693orig.jpeg', 'regions': [{'shape_attributes': {'name': 'polygon', 'all_points_x': [664, 666, 1018, 1019], 'all_points_y': [1115, 1176, 1181, 1122]}, 'region_attributes': {}}], 'size': 0}\n"
     ]
    }
   ],
   "source": [
    "import numpy as np\n",
    "from PIL import Image\n",
    "\n",
    "def min_rect(bbox_x, bbox_y, shape):\n",
    "    minx = np.min(bbox_x)\n",
    "    miny = np.min(bbox_y)\n",
    "    maxx = np.max(bbox_x)\n",
    "    maxy = np.max(bbox_y)\n",
    "    \n",
    "    xc = (maxx+minx)/2\n",
    "    yc = (maxy+miny)/2\n",
    "    wx = (maxx-minx)\n",
    "    wy = (maxy-miny)\n",
    "    \n",
    "    return xc / shape[0], yc/shape[1],wx/shape[0],wy/shape[1]\n",
    "\n",
    "for filename in vgg_annot['_via_img_metadata'].keys():\n",
    "    ann = vgg_annot['_via_img_metadata'][filename]\n",
    "    result = []\n",
    "    clss = 0\n",
    "    for reg in ann['regions']:\n",
    "        \n",
    "        rect = min_rect(reg['all_points_x'],reg['all_points_y'])\n",
    "        result.append([clss, *rect])\n",
    "    break"
   ]
  },
  {
   "cell_type": "code",
   "execution_count": null,
   "metadata": {},
   "outputs": [],
   "source": [
    "# file.txt -> file.jpg\n",
    "# class xcenter ycenter w h"
   ]
  },
  {
   "cell_type": "code",
   "execution_count": null,
   "metadata": {},
   "outputs": [],
   "source": []
  }
 ],
 "metadata": {
  "kernelspec": {
   "display_name": "Python 3.8.10 ('.venv': venv)",
   "language": "python",
   "name": "python3"
  },
  "language_info": {
   "codemirror_mode": {
    "name": "ipython",
    "version": 3
   },
   "file_extension": ".py",
   "mimetype": "text/x-python",
   "name": "python",
   "nbconvert_exporter": "python",
   "pygments_lexer": "ipython3",
   "version": "3.8.10"
  },
  "orig_nbformat": 4,
  "vscode": {
   "interpreter": {
    "hash": "44107dbaa4b6922b5a8e1e8135b6a6f0cf807f204c8f9153b967e476d9773268"
   }
  }
 },
 "nbformat": 4,
 "nbformat_minor": 2
}
